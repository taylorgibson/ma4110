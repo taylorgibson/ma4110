{
 "cells": [
  {
   "cell_type": "code",
   "execution_count": 7,
   "metadata": {},
   "outputs": [],
   "source": [
    "from datascience import *\n",
    "import numpy as np\n",
    "import matplotlib\n",
    "%matplotlib inline\n",
    "import matplotlib.pyplot as plt\n",
    "plt.style.use('fivethirtyeight')"
   ]
  },
  {
   "cell_type": "markdown",
   "metadata": {},
   "source": [
    "# The Midge Problem"
   ]
  },
  {
   "cell_type": "markdown",
   "metadata": {},
   "source": [
    "In 1981, two new varieties of a tiny biting insect called a midge were discovered in the jungles of Brazil by biologists W. L. Grogan and W. W. Wirth.  They dubbed one kind of midge an `Apf` midge and the other an `Af` midge.  The biologists found that the `Apf` midge is a carrier of a debilitating disease that causes swelling of the brain when a human is bitten by an infected midge.  Although the disease is rarely fatal, the disability caused by the swelling may be permanent.  The other form of the midge, the `Af`, is quite harmless and a valuable pollinator.  In an effort to distinguish the two varieties, the biologists took measurements on the midges they caught. The two measurements taken were wing length and antenna length, both measured in centimeters.  The data are provided in the following table. Run the cell below to read in the data as a Table."
   ]
  },
  {
   "cell_type": "code",
   "execution_count": 8,
   "metadata": {},
   "outputs": [
    {
     "data": {
      "text/html": [
       "<table border=\"1\" class=\"dataframe\">\n",
       "    <thead>\n",
       "        <tr>\n",
       "            <th>Type</th> <th>Wing Length</th> <th>Antenna Length</th>\n",
       "        </tr>\n",
       "    </thead>\n",
       "    <tbody>\n",
       "        <tr>\n",
       "            <td>Af  </td> <td>1.72       </td> <td>1.24          </td>\n",
       "        </tr>\n",
       "        <tr>\n",
       "            <td>Af  </td> <td>1.64       </td> <td>1.38          </td>\n",
       "        </tr>\n",
       "        <tr>\n",
       "            <td>Af  </td> <td>1.74       </td> <td>1.36          </td>\n",
       "        </tr>\n",
       "        <tr>\n",
       "            <td>Af  </td> <td>1.7        </td> <td>1.4           </td>\n",
       "        </tr>\n",
       "        <tr>\n",
       "            <td>Af  </td> <td>1.82       </td> <td>1.38          </td>\n",
       "        </tr>\n",
       "        <tr>\n",
       "            <td>Af  </td> <td>1.82       </td> <td>1.48          </td>\n",
       "        </tr>\n",
       "        <tr>\n",
       "            <td>Af  </td> <td>1.9        </td> <td>1.38          </td>\n",
       "        </tr>\n",
       "        <tr>\n",
       "            <td>Af  </td> <td>1.82       </td> <td>1.54          </td>\n",
       "        </tr>\n",
       "        <tr>\n",
       "            <td>Af  </td> <td>2.08       </td> <td>1.56          </td>\n",
       "        </tr>\n",
       "        <tr>\n",
       "            <td>Apf </td> <td>1.78       </td> <td>1.14          </td>\n",
       "        </tr>\n",
       "    </tbody>\n",
       "</table>\n",
       "<p>... (5 rows omitted)</p>"
      ],
      "text/plain": [
       "Type | Wing Length | Antenna Length\n",
       "Af   | 1.72        | 1.24\n",
       "Af   | 1.64        | 1.38\n",
       "Af   | 1.74        | 1.36\n",
       "Af   | 1.7         | 1.4\n",
       "Af   | 1.82        | 1.38\n",
       "Af   | 1.82        | 1.48\n",
       "Af   | 1.9         | 1.38\n",
       "Af   | 1.82        | 1.54\n",
       "Af   | 2.08        | 1.56\n",
       "Apf  | 1.78        | 1.14\n",
       "... (5 rows omitted)"
      ]
     },
     "execution_count": 8,
     "metadata": {},
     "output_type": "execute_result"
    }
   ],
   "source": [
    "midge = Table.read_table('midge.csv')\n",
    "midge"
   ]
  },
  {
   "cell_type": "markdown",
   "metadata": {},
   "source": [
    "The cell below will plot Wing Length vs Antenna Length, and color code the two different groups."
   ]
  },
  {
   "cell_type": "code",
   "execution_count": 21,
   "metadata": {},
   "outputs": [
    {
     "data": {
      "image/png": "[encoded data removed]",
      "text/plain": [
       "<Figure size 360x360 with 1 Axes>"
      ]
     },
     "metadata": {},
     "output_type": "display_data"
    }
   ],
   "source": [
    "midge.scatter('Wing Length', group=\"Type\")"
   ]
  },
  {
   "cell_type": "markdown",
   "metadata": {},
   "source": [
    "## Questions\n",
    "1. Given a midge that you know is either species `Af` or `Apf`, how would you go about classifying it?\n",
    "2. Apply your method to three specimens with (Wing Length, Antenna Length) values of: $(1.80, 1.24)$, $(1.84, 1.28)$, and $(2.04, 1.40)$."
   ]
  },
  {
   "cell_type": "code",
   "execution_count": null,
   "metadata": {},
   "outputs": [],
   "source": []
  }
 ],
 "metadata": {
  "kernelspec": {
   "display_name": "Python 3",
   "language": "python",
   "name": "python3"
  },
  "language_info": {
   "codemirror_mode": {
    "name": "ipython",
    "version": 3
   },
   "file_extension": ".py",
   "mimetype": "text/x-python",
   "name": "python",
   "nbconvert_exporter": "python",
   "pygments_lexer": "ipython3",
   "version": "3.8.5"
  }
 },
 "nbformat": 4,
 "nbformat_minor": 4
}
