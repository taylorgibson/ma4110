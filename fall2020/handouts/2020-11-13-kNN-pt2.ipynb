{
 "cells": [
  {
   "cell_type": "markdown",
   "metadata": {},
   "source": [
    "# k-Nearest Neighbors, Part 2"
   ]
  },
  {
   "cell_type": "code",
   "execution_count": null,
   "metadata": {},
   "outputs": [],
   "source": [
    "import numpy as np\n",
    "from datascience import *\n",
    "\n",
    "# These lines do some fancy plotting magic.\n",
    "import matplotlib\n",
    "%matplotlib inline\n",
    "import matplotlib.pyplot as plt\n",
    "plt.style.use('fivethirtyeight')\n",
    "import warnings\n",
    "warnings.simplefilter('ignore', FutureWarning)"
   ]
  },
  {
   "cell_type": "markdown",
   "metadata": {},
   "source": [
    "## Picking Back Up\n",
    "\n",
    "Let's pick up where we left off yesterday in class. Run the follow set of cells to load up everything from where we stopped."
   ]
  },
  {
   "cell_type": "markdown",
   "metadata": {},
   "source": [
    "Get the original table:"
   ]
  },
  {
   "cell_type": "code",
   "execution_count": null,
   "metadata": {},
   "outputs": [],
   "source": [
    "ckd = Table.read_table('https://raw.githubusercontent.com/data-8/textbook/gh-pages/data/ckd.csv').relabeled('Blood Glucose Random', 'Glucose')"
   ]
  },
  {
   "cell_type": "markdown",
   "metadata": {},
   "source": [
    "Load in these helper functions"
   ]
  },
  {
   "cell_type": "code",
   "execution_count": null,
   "metadata": {},
   "outputs": [],
   "source": [
    "def standard_units(array_of_numbers):\n",
    "    \"Convert any array of numbers to standard units.\"\n",
    "    return (array_of_numbers - np.mean(array_of_numbers)) / np.std(array_of_numbers)  \n",
    "\n",
    "def distance(arr1, arr2):\n",
    "    return np.sqrt( np.sum( (arr2 - arr1)**2 ))"
   ]
  },
  {
   "cell_type": "markdown",
   "metadata": {},
   "source": [
    "Reduce the table down to just the columns we care about and in standard units:"
   ]
  },
  {
   "cell_type": "code",
   "execution_count": null,
   "metadata": {},
   "outputs": [],
   "source": [
    "ckd = Table().with_columns(\n",
    "    'Hemoglobin', standard_units(ckd.column('Hemoglobin')),\n",
    "    'Glucose', standard_units(ckd.column('Glucose')),\n",
    "    'Class', ckd.column('Class')\n",
    ")"
   ]
  },
  {
   "cell_type": "code",
   "execution_count": null,
   "metadata": {},
   "outputs": [],
   "source": [
    "ckd"
   ]
  },
  {
   "cell_type": "markdown",
   "metadata": {},
   "source": [
    "Here's Alice (*Note: I've modified her Glucose level to be 1.1 instead of the 1.5 value we used in class on Thursday*)"
   ]
  },
  {
   "cell_type": "code",
   "execution_count": null,
   "metadata": {},
   "outputs": [],
   "source": [
    "alice = make_array(0, 1.1)"
   ]
  },
  {
   "cell_type": "markdown",
   "metadata": {},
   "source": [
    "### New Helper Function\n",
    "\n",
    "Here's a new function `row_to_array` that will help us turn a row from a table into an array that we can use with our `distance` function. You give it an entire row of a table, which can include ALL attributes for that row, and it will return an array that only contains the features that are specified in an input array."
   ]
  },
  {
   "cell_type": "code",
   "execution_count": null,
   "metadata": {},
   "outputs": [],
   "source": [
    "def row_to_array(row, features):\n",
    "    \"\"\"Returns an array of the features specified in the array named features\"\"\"\n",
    "    arr = make_array()\n",
    "    for feature in features:\n",
    "        arr = np.append(arr, row.item(feature))\n",
    "    return arr"
   ]
  },
  {
   "cell_type": "markdown",
   "metadata": {},
   "source": [
    "For example, normally calling a row from `ckd` would include the data on `Class`, which we don't want when calculating distance:"
   ]
  },
  {
   "cell_type": "code",
   "execution_count": null,
   "metadata": {},
   "outputs": [],
   "source": [
    "ckd.row(3)"
   ]
  },
  {
   "cell_type": "markdown",
   "metadata": {},
   "source": [
    "We could first `.drop()` Class from the table `ckd` like this:"
   ]
  },
  {
   "cell_type": "code",
   "execution_count": null,
   "metadata": {},
   "outputs": [],
   "source": [
    "ckd.drop('Class').row(3)"
   ]
  },
  {
   "cell_type": "markdown",
   "metadata": {},
   "source": [
    "and then convert to an array using `np.array()`"
   ]
  },
  {
   "cell_type": "code",
   "execution_count": null,
   "metadata": {},
   "outputs": [],
   "source": [
    "patient3_np = np.array( ckd.drop('Class').row(3) )\n",
    "patient3_np"
   ]
  },
  {
   "cell_type": "markdown",
   "metadata": {},
   "source": [
    "But that's kind of messy. It works, but sometimes we might want a different way to do this.\n",
    "\n",
    "Another way is to use the helper function `row_to_array()`, which can handle a lot of this extra work for us:"
   ]
  },
  {
   "cell_type": "code",
   "execution_count": null,
   "metadata": {},
   "outputs": [],
   "source": [
    "features = make_array('Hemoglobin', 'Glucose')\n",
    "patient3 = row_to_array( ckd.row(3), features )"
   ]
  },
  {
   "cell_type": "markdown",
   "metadata": {},
   "source": [
    "Both ways are fine (you get the same array when you're done) but one may be a bit easier to read and understand. We need to be able to convert a row of information into an array before we can calculate the distance from that row with another test point."
   ]
  },
  {
   "cell_type": "code",
   "execution_count": null,
   "metadata": {},
   "outputs": [],
   "source": [
    "distance( alice, patient3_np )"
   ]
  },
  {
   "cell_type": "code",
   "execution_count": null,
   "metadata": {},
   "outputs": [],
   "source": [
    "distance( alice, patient3 )"
   ]
  },
  {
   "cell_type": "markdown",
   "metadata": {},
   "source": [
    "## Calculating Distances\n",
    "\n",
    "There are two ways you can calculate distances from a given point (in this context, a patient) and all the other rows in a table.\n",
    "\n",
    "1. A `for` loop\n",
    "2. Using the `.apply` method.\n",
    "\n",
    "We'll take a look at both, because they each have their advantages."
   ]
  },
  {
   "cell_type": "markdown",
   "metadata": {},
   "source": [
    "### A `for` loop\n",
    "\n",
    "You can use a `for` loop to iterate through each row in a table, and then calculate the distance between that row and a provided test point. First, let's make sure we've identified the features we care about (Hemoglobin and Gluce) and select a patient as our test point. We'll keep using Alice."
   ]
  },
  {
   "cell_type": "code",
   "execution_count": null,
   "metadata": {},
   "outputs": [],
   "source": [
    "features = make_array('Hemoglobin', 'Glucose')\n",
    "test_point = alice"
   ]
  },
  {
   "cell_type": "markdown",
   "metadata": {},
   "source": [
    "Then, we'll make an empty array named `distances` that will collect the distance from Alice (`test_point`) to each of the patients in table `ckd`. The code `for row in ckd.rows:` will sequentially select an individual row from the table `ckd` and store it to the variable `row`. The code inside the loop will convert the current row into an array named `row_as_array` (keeping only the features specified earlier), calculate the distance between `test_point` to the current row, `row_as_array`, and then append that distance to the array `distances`. You can see that the result is an array of distances from Alice to each patient in the table."
   ]
  },
  {
   "cell_type": "code",
   "execution_count": null,
   "metadata": {},
   "outputs": [],
   "source": [
    "distances = make_array()\n",
    "for row in ckd.rows:\n",
    "    row_as_array = row_to_array(row, features)\n",
    "    one_distance = distance(test_point, row_as_array)\n",
    "    distances = np.append(distances, one_distance)\n",
    "\n",
    "distances"
   ]
  },
  {
   "cell_type": "markdown",
   "metadata": {},
   "source": [
    "We can now augment the table `ckd` so it includes these distances in addition to the original table."
   ]
  },
  {
   "cell_type": "code",
   "execution_count": null,
   "metadata": {},
   "outputs": [],
   "source": [
    "ckd_with_distances = ckd.with_column('Distance to Alice', distances)\n",
    "ckd_with_distances"
   ]
  },
  {
   "cell_type": "markdown",
   "metadata": {},
   "source": [
    "## The `.apply` method\n",
    "\n",
    "As a refresher, the `.apply` method can be called on a table, and it will create an array of values that are calculated by using the specified function on a given column of the table. For example, the following code will apply the `np.square` function using the column labeled `Hemoglobin` as the input to the function."
   ]
  },
  {
   "cell_type": "code",
   "execution_count": null,
   "metadata": {},
   "outputs": [],
   "source": [
    "ckd.apply( np.square, 'Hemoglobin')"
   ]
  },
  {
   "cell_type": "markdown",
   "metadata": {},
   "source": [
    "If no input is provided, it's assumed that the entire Row will be provided as an input. We'll need to make sure that the able only has the features that make sense for the function to work on. For example, in the table `ckd`, it wouldn't make sense to include the column `Class` in any calculations, since it's not a feature/attribute of a patient. We should drop this column before using the `.apply` method. Here's an example where the code will add the values in the `Hemoglobin` and `Glucose` columns. This doesn't really mean much in context, but it's meant to illustrate how the `.apply` method works when no columns are specified."
   ]
  },
  {
   "cell_type": "code",
   "execution_count": null,
   "metadata": {},
   "outputs": [],
   "source": [
    "ckd.drop('Class').apply( sum )"
   ]
  },
  {
   "cell_type": "markdown",
   "metadata": {},
   "source": [
    "One limitation to the `.apply` method is that it requires you to provide a function that only takes in one input. To calculate all of our distances, we would need two inputs: one for the test point, and one for the current row. It turns out we can write a function that only takes in one input *inside* another function that takes in two. Take a look."
   ]
  },
  {
   "cell_type": "code",
   "execution_count": null,
   "metadata": {},
   "outputs": [],
   "source": [
    "def all_distances(new_point, data):\n",
    "    \n",
    "    data = data.drop('Class')\n",
    "    \n",
    "    def one_distance(row):\n",
    "        arr = np.array( row )\n",
    "        return distance(new_point, arr)\n",
    "    \n",
    "    return data.apply(one_distance)"
   ]
  },
  {
   "cell_type": "markdown",
   "metadata": {},
   "source": [
    "The function `all_distances` will take in a single person (`new_point`) and a table all the patients who are classified (`data`). It drops the `Class` column from the table, and then creates the `one_distance` function which only takes in a single row and calculates the distance between `new_point` and a single row from a table. Lastly, the `apply` method will create an array of values using the `one_distance` function, `new_point`, and every row in the table `data`.\n",
    "\n",
    "Calling the function results in the following:"
   ]
  },
  {
   "cell_type": "code",
   "execution_count": null,
   "metadata": {},
   "outputs": [],
   "source": [
    "all_distances(alice, ckd)"
   ]
  },
  {
   "cell_type": "markdown",
   "metadata": {},
   "source": [
    "We can now augment the table `ckd` so it includes these distances in addition to the original table. This should be identical to the table we created using the `for` loop."
   ]
  },
  {
   "cell_type": "code",
   "execution_count": null,
   "metadata": {},
   "outputs": [],
   "source": [
    "ckd_with_distances = ckd.with_column('Distance to Alice', all_distances(alice, ckd) )\n",
    "ckd_with_distances"
   ]
  },
  {
   "cell_type": "markdown",
   "metadata": {},
   "source": [
    "### Choosing `for` loop vs. `.apply` method?\n",
    "\n",
    "How do you decide to use techinique over another?\n",
    "\n",
    "|         | Pros | Cons |\n",
    "|---------|------|------|\n",
    "|`for`    | No need to create extra helper functions  | Can take a lot longer when working with big Tables     |\n",
    "|`.apply` | No need to know about loops. <br>Can be a lot faster working with big data sets    | Need to write a function in a function to get the final array     |\n",
    "\n",
    "At the end of the day, choose the approach that makes more sense to you!"
   ]
  },
  {
   "cell_type": "markdown",
   "metadata": {},
   "source": [
    "## Classification"
   ]
  },
  {
   "cell_type": "markdown",
   "metadata": {},
   "source": [
    "Now that we have a way to quickly calculate the distance from any patient to the other patients in a table, we need to figure out how to classify the patient easily. We should start by sorting our table by `Distance`"
   ]
  },
  {
   "cell_type": "code",
   "execution_count": null,
   "metadata": {},
   "outputs": [],
   "source": [
    "ckd_with_distances.sort('Distance to Alice')"
   ]
  },
  {
   "cell_type": "markdown",
   "metadata": {},
   "source": [
    "Let's assume that `k=5`, meaning we'll use the 5 nearest neighbors to make a decision on our new patient. The following code will only keep the nearest 5 patients and stores the new table to `nearest_neighbors`."
   ]
  },
  {
   "cell_type": "code",
   "execution_count": null,
   "metadata": {},
   "outputs": [],
   "source": [
    "nearest_neighbors = ckd_with_distances.sort('Distance to Alice').take(np.arange(5))\n",
    "nearest_neighbors"
   ]
  },
  {
   "cell_type": "markdown",
   "metadata": {},
   "source": [
    "We could count by hand how many neighbors fall into each Class, but that sounds like a job better suited for the following code:"
   ]
  },
  {
   "cell_type": "code",
   "execution_count": null,
   "metadata": {},
   "outputs": [],
   "source": [
    "nearest_neighbors.group('Class')"
   ]
  },
  {
   "cell_type": "markdown",
   "metadata": {},
   "source": [
    "If we sort this new table by `count` (largest at the top), and then take the first item from the column `Class` it will tell us how we classified the new patient."
   ]
  },
  {
   "cell_type": "code",
   "execution_count": null,
   "metadata": {},
   "outputs": [],
   "source": [
    "nearest_neighbors.group('Class').sort('count', descending=True).column('Class').item(0)"
   ]
  },
  {
   "cell_type": "markdown",
   "metadata": {},
   "source": [
    "Alice has been determined to belong to class `1`, meaning our classifier has predicted that she is likely to have kidney disease."
   ]
  },
  {
   "cell_type": "markdown",
   "metadata": {},
   "source": [
    "## How Accurate is it?\n",
    "\n",
    "Next week, we'll look further into how to determine how accurate our approach is in classifying people into a particular group."
   ]
  }
 ],
 "metadata": {
  "kernelspec": {
   "display_name": "Python 3",
   "language": "python",
   "name": "python3"
  },
  "language_info": {
   "codemirror_mode": {
    "name": "ipython",
    "version": 3
   },
   "file_extension": ".py",
   "mimetype": "text/x-python",
   "name": "python",
   "nbconvert_exporter": "python",
   "pygments_lexer": "ipython3",
   "version": "3.8.5"
  }
 },
 "nbformat": 4,
 "nbformat_minor": 4
}
