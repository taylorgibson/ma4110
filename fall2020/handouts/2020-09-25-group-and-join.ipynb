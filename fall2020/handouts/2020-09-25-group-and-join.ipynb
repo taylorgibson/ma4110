{
 "cells": [
  {
   "cell_type": "markdown",
   "metadata": {},
   "source": [
    "# Group and Join Practice"
   ]
  },
  {
   "cell_type": "code",
   "execution_count": 2,
   "metadata": {},
   "outputs": [],
   "source": [
    "# Just run this cell\n",
    "import warnings\n",
    "warnings.filterwarnings(\"ignore\", message=\"The 'warn' parameter of\")\n",
    "\n",
    "from datascience import *\n",
    "import numpy as np"
   ]
  },
  {
   "cell_type": "markdown",
   "metadata": {},
   "source": [
    "The following cells will load in 3 different tables:\n",
    "\n",
    "## `salesperson`\n",
    "contains information about the different salespersons at a company including their ID number, Name, City in which they work, and the percent comission they make on any sale they make."
   ]
  },
  {
   "cell_type": "code",
   "execution_count": 3,
   "metadata": {},
   "outputs": [
    {
     "data": {
      "text/html": [
       "<table border=\"1\" class=\"dataframe\">\n",
       "    <thead>\n",
       "        <tr>\n",
       "            <th>Salesperson ID</th> <th>Salesperson Name</th> <th>City</th> <th>Commission</th>\n",
       "        </tr>\n",
       "    </thead>\n",
       "    <tbody>\n",
       "        <tr>\n",
       "            <td>5001          </td> <td>James Hoog      </td> <td>New York</td> <td>0.15      </td>\n",
       "        </tr>\n",
       "        <tr>\n",
       "            <td>5002          </td> <td>Nail Knite      </td> <td>Paris   </td> <td>0.13      </td>\n",
       "        </tr>\n",
       "        <tr>\n",
       "            <td>5005          </td> <td>Amoli Alex      </td> <td>London  </td> <td>0.11      </td>\n",
       "        </tr>\n",
       "        <tr>\n",
       "            <td>5006          </td> <td>Mike Lyon       </td> <td>Paris   </td> <td>0.14      </td>\n",
       "        </tr>\n",
       "        <tr>\n",
       "            <td>5007          </td> <td>Adam Plank      </td> <td>Rome    </td> <td>0.13      </td>\n",
       "        </tr>\n",
       "        <tr>\n",
       "            <td>5003          </td> <td>Layla Ahmad     </td> <td>San Jose</td> <td>0.12      </td>\n",
       "        </tr>\n",
       "    </tbody>\n",
       "</table>"
      ],
      "text/plain": [
       "Salesperson ID | Salesperson Name | City     | Commission\n",
       "5001           | James Hoog       | New York | 0.15\n",
       "5002           | Nail Knite       | Paris    | 0.13\n",
       "5005           | Amoli Alex       | London   | 0.11\n",
       "5006           | Mike Lyon        | Paris    | 0.14\n",
       "5007           | Adam Plank       | Rome     | 0.13\n",
       "5003           | Layla Ahmad      | San Jose | 0.12"
      ]
     },
     "execution_count": 3,
     "metadata": {},
     "output_type": "execute_result"
    }
   ],
   "source": [
    "salesperson = Table(['Salesperson ID', 'Salesperson Name', 'City', 'Commission']).with_rows([\n",
    "    ['5001', 'James Hoog',  'New York', 0.15],\n",
    "    ['5002', 'Nail Knite',  'Paris',    0.13],\n",
    "    ['5005', 'Amoli Alex',  'London',   0.11],\n",
    "    ['5006', 'Mike Lyon',   'Paris',    0.14],\n",
    "    ['5007', 'Adam Plank',  'Rome',     0.13],\n",
    "    ['5003', 'Layla Ahmad', 'San Jose', 0.12]\n",
    "])\n",
    "\n",
    "salesperson"
   ]
  },
  {
   "cell_type": "markdown",
   "metadata": {},
   "source": [
    "## `customer`\n",
    "\n",
    "This table contains customer information, including their ID number, Name, City, their grade (a number that indicates the volume of purchases they make), and their assigned salesperson indicated by the salesperson ID number."
   ]
  },
  {
   "cell_type": "code",
   "execution_count": 4,
   "metadata": {},
   "outputs": [
    {
     "data": {
      "text/html": [
       "<table border=\"1\" class=\"dataframe\">\n",
       "    <thead>\n",
       "        <tr>\n",
       "            <th>Customer ID</th> <th>Customer Name</th> <th>City</th> <th>Grade</th> <th>Salesperson ID</th>\n",
       "        </tr>\n",
       "    </thead>\n",
       "    <tbody>\n",
       "        <tr>\n",
       "            <td>3002       </td> <td>Nick Rimando  </td> <td>New York  </td> <td>100  </td> <td>5001          </td>\n",
       "        </tr>\n",
       "        <tr>\n",
       "            <td>3007       </td> <td>Brad Davis    </td> <td>New York  </td> <td>200  </td> <td>5001          </td>\n",
       "        </tr>\n",
       "        <tr>\n",
       "            <td>3005       </td> <td>Graham Zusi   </td> <td>California</td> <td>200  </td> <td>5002          </td>\n",
       "        </tr>\n",
       "        <tr>\n",
       "            <td>3008       </td> <td>Jilian Green  </td> <td>London    </td> <td>300  </td> <td>5002          </td>\n",
       "        </tr>\n",
       "        <tr>\n",
       "            <td>3004       </td> <td>Fabian Johnson</td> <td>Paris     </td> <td>300  </td> <td>5006          </td>\n",
       "        </tr>\n",
       "        <tr>\n",
       "            <td>3009       </td> <td>Gina Cameron  </td> <td>Berlin    </td> <td>100  </td> <td>5003          </td>\n",
       "        </tr>\n",
       "        <tr>\n",
       "            <td>3003       </td> <td>Helen Li      </td> <td>Moscow    </td> <td>200  </td> <td>5007          </td>\n",
       "        </tr>\n",
       "        <tr>\n",
       "            <td>3001       </td> <td>Corey Jackson </td> <td>London    </td> <td>200  </td> <td>5005          </td>\n",
       "        </tr>\n",
       "    </tbody>\n",
       "</table>"
      ],
      "text/plain": [
       "Customer ID | Customer Name  | City       | Grade | Salesperson ID\n",
       "3002        | Nick Rimando   | New York   | 100   | 5001\n",
       "3007        | Brad Davis     | New York   | 200   | 5001\n",
       "3005        | Graham Zusi    | California | 200   | 5002\n",
       "3008        | Jilian Green   | London     | 300   | 5002\n",
       "3004        | Fabian Johnson | Paris      | 300   | 5006\n",
       "3009        | Gina Cameron   | Berlin     | 100   | 5003\n",
       "3003        | Helen Li       | Moscow     | 200   | 5007\n",
       "3001        | Corey Jackson  | London     | 200   | 5005"
      ]
     },
     "execution_count": 4,
     "metadata": {},
     "output_type": "execute_result"
    }
   ],
   "source": [
    "customer = Table(['Customer ID', 'Customer Name', 'City', 'Grade', 'Salesperson ID']).with_rows([\n",
    "    ['3002', 'Nick Rimando',   'New York',   100, '5001'],\n",
    "    ['3007', 'Brad Davis',     'New York',   200, '5001'],\n",
    "    ['3005', 'Graham Zusi',    'California', 200, '5002'],\n",
    "    ['3008', 'Jilian Green',   'London',     300, '5002'],\n",
    "    ['3004', 'Fabian Johnson', 'Paris',      300, '5006'],\n",
    "    ['3009', 'Gina Cameron',   'Berlin',     100, '5003'],\n",
    "    ['3003', 'Helen Li',       'Moscow',     200, '5007'],\n",
    "    ['3001', 'Corey Jackson',  'London',     200, '5005']\n",
    "])\n",
    "\n",
    "customer"
   ]
  },
  {
   "cell_type": "markdown",
   "metadata": {},
   "source": [
    "## `orders`\n",
    "\n",
    "This table contains information about recent orders, including the Order Number, the purchase amount (in dollars), the date of the order, the customer who made the purchase (indicated by their ID number) and the salesperson who made the sale (indicated by ID number)."
   ]
  },
  {
   "cell_type": "code",
   "execution_count": 5,
   "metadata": {},
   "outputs": [
    {
     "data": {
      "text/html": [
       "<table border=\"1\" class=\"dataframe\">\n",
       "    <thead>\n",
       "        <tr>\n",
       "            <th>Order Number</th> <th>Purchase Amount</th> <th>Order Date</th> <th>Customer ID</th> <th>Salesperson ID</th>\n",
       "        </tr>\n",
       "    </thead>\n",
       "    <tbody>\n",
       "        <tr>\n",
       "            <td>70001       </td> <td>$150.50        </td> <td>2019-10-05</td> <td>3005       </td> <td>5002          </td>\n",
       "        </tr>\n",
       "        <tr>\n",
       "            <td>70009       </td> <td>$270.65        </td> <td>2019-09-10</td> <td>3001       </td> <td>5005          </td>\n",
       "        </tr>\n",
       "        <tr>\n",
       "            <td>70002       </td> <td>$65.26         </td> <td>2019-10-05</td> <td>3002       </td> <td>5001          </td>\n",
       "        </tr>\n",
       "        <tr>\n",
       "            <td>70004       </td> <td>$110.50        </td> <td>2019-08-17</td> <td>3009       </td> <td>5003          </td>\n",
       "        </tr>\n",
       "        <tr>\n",
       "            <td>70007       </td> <td>$948.50        </td> <td>2019-09-10</td> <td>3005       </td> <td>5002          </td>\n",
       "        </tr>\n",
       "        <tr>\n",
       "            <td>70005       </td> <td>$2,400.60      </td> <td>2019-07-27</td> <td>3007       </td> <td>5001          </td>\n",
       "        </tr>\n",
       "        <tr>\n",
       "            <td>70008       </td> <td>$5,760.00      </td> <td>2019-09-10</td> <td>3002       </td> <td>5001          </td>\n",
       "        </tr>\n",
       "        <tr>\n",
       "            <td>70010       </td> <td>$1,983.43      </td> <td>2019-10-10</td> <td>3004       </td> <td>5006          </td>\n",
       "        </tr>\n",
       "        <tr>\n",
       "            <td>70003       </td> <td>$2,480.40      </td> <td>2019-10-10</td> <td>3009       </td> <td>5003          </td>\n",
       "        </tr>\n",
       "        <tr>\n",
       "            <td>70012       </td> <td>$250.45        </td> <td>2019-06-27</td> <td>3008       </td> <td>5002          </td>\n",
       "        </tr>\n",
       "    </tbody>\n",
       "</table>\n",
       "<p>... (2 rows omitted)</p>"
      ],
      "text/plain": [
       "Order Number | Purchase Amount | Order Date | Customer ID | Salesperson ID\n",
       "70001        | $150.50         | 2019-10-05 | 3005        | 5002\n",
       "70009        | $270.65         | 2019-09-10 | 3001        | 5005\n",
       "70002        | $65.26          | 2019-10-05 | 3002        | 5001\n",
       "70004        | $110.50         | 2019-08-17 | 3009        | 5003\n",
       "70007        | $948.50         | 2019-09-10 | 3005        | 5002\n",
       "70005        | $2,400.60       | 2019-07-27 | 3007        | 5001\n",
       "70008        | $5,760.00       | 2019-09-10 | 3002        | 5001\n",
       "70010        | $1,983.43       | 2019-10-10 | 3004        | 5006\n",
       "70003        | $2,480.40       | 2019-10-10 | 3009        | 5003\n",
       "70012        | $250.45         | 2019-06-27 | 3008        | 5002\n",
       "... (2 rows omitted)"
      ]
     },
     "execution_count": 5,
     "metadata": {},
     "output_type": "execute_result"
    }
   ],
   "source": [
    "orders = Table(['Order Number', 'Purchase Amount', 'Order Date', 'Customer ID', 'Salesperson ID']).with_rows([\n",
    "    ['70001', '$150.50',   '2019-10-05', '3005', '5002'],\n",
    "    ['70009', '$270.65',   '2019-09-10', '3001', '5005'],\n",
    "    ['70002', '$65.26',    '2019-10-05', '3002', '5001'],\n",
    "    ['70004', '$110.50',   '2019-08-17', '3009', '5003'],\n",
    "    ['70007', '$948.50',   '2019-09-10', '3005', '5002'],\n",
    "    ['70005', '$2,400.60', '2019-07-27', '3007', '5001'],\n",
    "    ['70008', '$5,760.00', '2019-09-10', '3002', '5001'],\n",
    "    ['70010', '$1,983.43', '2019-10-10', '3004', '5006'],\n",
    "    ['70003', '$2,480.40', '2019-10-10', '3009', '5003'],\n",
    "    ['70012', '$250.45',   '2019-06-27', '3008', '5002'],\n",
    "    ['70011', '$75.29',    '2019-08-17', '3003', '5007'],\n",
    "    ['70013', '$3,045.60', '2019-04-25', '3002', '5001']\n",
    "])\n",
    "\n",
    "orders"
   ]
  },
  {
   "cell_type": "markdown",
   "metadata": {},
   "source": [
    "### Question 1\n",
    "\n",
    "Use the `join` and `select` methods to create a Table in which each row details a salesperson and customer pairing and the city in which the salesperson resides. For example:\n",
    "\n",
    "|Salesperson Name|Customer Name|City|\n",
    "|----------------|-------------|----|\n",
    "|James Hoog|Nick Rimando|New York|\n",
    "|James Hoog|Brad Davis|New York|\n",
    "|Nail Knite|Graham Zusi|Paris|\n",
    "|Nail Knite|Jilian Green|Paris|\n",
    "|Layla Ahmad|Gina Cameron|San Jose|\n",
    "|Amoli Alex|Corey Jackson|London|\n",
    "|Mike Lyon|Fabian Johnson|Paris|\n",
    "|Adam Plank|Helen Li|Rome|"
   ]
  },
  {
   "cell_type": "code",
   "execution_count": null,
   "metadata": {},
   "outputs": [],
   "source": []
  },
  {
   "cell_type": "markdown",
   "metadata": {},
   "source": [
    "### Question 2\n",
    "\n",
    "Use the `join` method to make the table below that details the order information:\n",
    "\n",
    "|Order Number|Purchase Amount|Customer Name|City|\n",
    "|------------|---------------|-------------|----|\n",
    "|70001|\\$150.50|Graham Zusi|California|\n",
    "|70002|\\$65.26|Nick Rimando|New York|\n",
    "|70003|\\$2,480.40|Gina Cameron|Berlin|\n",
    "|70004|\\$110.50|Gina Cameron|Berlin|\n",
    "|70005|\\$2,400.60|Brad Davis|New York|\n",
    "|70007|\\$948.50|Graham Zusi|California|\n",
    "|70008|\\$5,760.00|Nick Rimando|New York|\n",
    "|70009|\\$270.65|Corey Jackson|London|\n",
    "|70010|\\$1,983.43|Fabian Johnson|Paris|\n",
    "|70011|\\$75.29|Helen Li|Moscow|\n",
    "|70012|\\$250.45|Jilian Green|London|\n",
    "|70013|\\$3,045.60|Nick Rimando|New York|"
   ]
  },
  {
   "cell_type": "code",
   "execution_count": null,
   "metadata": {},
   "outputs": [],
   "source": []
  },
  {
   "cell_type": "markdown",
   "metadata": {},
   "source": [
    "### Question 3\n",
    "\n",
    "Use the `join` method to make the table below:\n",
    "\n",
    "|Customer Name|City|Salesperson Name|Commission|\n",
    "|-------------|----|----------------|----------|\n",
    "|Nick Rimando|New York|James Hoog|0.15|\n",
    "|Brad Davis|New York|James Hoog|0.15|\n",
    "|Graham Zusi|California|Nail Knite|0.13|\n",
    "|Jilian Green|London|Nail Knite|0.13|\n",
    "|Gina Cameron|Berlin|Layla Ahmad|0.12|\n",
    "|Corey Jackson|London|Amoli Alex|0.11|\n",
    "|Fabian Johnson|Paris|Mike Lyon|0.14|\n",
    "|Helen Li|Moscow|Adam Plank|0.13|"
   ]
  },
  {
   "cell_type": "code",
   "execution_count": null,
   "metadata": {},
   "outputs": [],
   "source": []
  },
  {
   "cell_type": "markdown",
   "metadata": {},
   "source": [
    "### Question 4\n",
    "\n",
    "Use the `join` method to make the table below:\n",
    "\n",
    "|Salesperson Name|Customer Name|City|Commission|\n",
    "|----------------|-------------|----|----------|\n",
    "|James Hoog|Nick Rimando|New York|0.15|\n",
    "|James Hoog|Brad Davis|New York|0.15|\n",
    "|Nail Knite|Graham Zusi|Paris|0.13|\n",
    "|Nail Knite|Jilian Green|Paris|0.13|\n",
    "|Mike Lyon|Fabian Johnson|Paris|0.14|\n",
    "|Adam Plank|Helen Li|Rome|0.13|\n",
    "\n",
    "\n",
    "**Note:** Only display the customers whose appointed salesperson gets a commission of more than 12%."
   ]
  },
  {
   "cell_type": "code",
   "execution_count": null,
   "metadata": {},
   "outputs": [],
   "source": []
  },
  {
   "cell_type": "markdown",
   "metadata": {},
   "source": [
    "### Question 5\n",
    "\n",
    "Use the `join` method to make the table below:\n",
    "\n",
    "|Customer Name|Customer City|Salesperson Name|Salesperson City|Commission|\n",
    "|-------------|----|----------------|------|----------|\n",
    "|Graham Zusi|Paris|Nail Knite|California|0.13|\n",
    "|Jilian Green|Paris|Nail Knite|London|0.13|\n",
    "|Gina Cameron|San Jose|Layla Ahmad|Berlin|0.12|\n",
    "|Helen Li|Rome|Adam Plank|Moscow|0.13|\n",
    "\n",
    "**Note 1:** Only display the customers whose appointed salesperson lives in a different city.\n",
    "\n",
    "**Note 2:** Relabel the column names to `Customer City` and `Salesperson City`.\n",
    "\n",
    "**Hint 1:** The `.relabled` method allows you to relabel multiple comluns using arrays. For more information on the `.relabled` method [click here](http://data8.org/datascience/_autosummary/datascience.tables.Table.relabeled.html) to look at the documentation."
   ]
  },
  {
   "cell_type": "code",
   "execution_count": null,
   "metadata": {},
   "outputs": [],
   "source": []
  },
  {
   "cell_type": "markdown",
   "metadata": {},
   "source": [
    "### Question 6\n",
    "\n",
    "Use the `join` method to make the table below:\n",
    "\n",
    "|Order Number|Order Date|Purchase Amount|Customer Name|Grade|Salesperson Name|Commission|\n",
    "|------------|----------|---------------|-------------|-----|----------------|----------|\n",
    "|70002|2019-10-05|\\$65.26|Nick Rimando|100|James Hoog|0.15|\n",
    "|70008|2019-09-10|\\$5,760.00|Nick Rimando|100|James Hoog|0.15|\n",
    "|70013|2019-04-25|\\$3,045.60|Nick Rimando|100|James Hoog|0.15|\n",
    "|70005|2019-07-27|\\$2,400.60|Brad Davis|200|James Hoog|0.15|\n",
    "|70001|2019-10-05|\\$150.50|Graham Zusi|200|Nail Knite|0.13|\n",
    "|70007|2019-09-10|\\$948.50|Graham Zusi|200|Nail Knite|0.13|\n",
    "|70012|2019-06-27|\\$250.45|Jilian Green|300|Nail Knite|0.13|\n",
    "|70004|2019-08-17|\\$110.50|Gina Cameron|100|Layla Ahmad|0.12|\n",
    "|70003|2019-10-10|\\$2,480.40|Gina Cameron|100|Layla Ahmad|0.12|\n",
    "|70009|2019-09-10|\\$270.65|Corey Jackson|200|Amoli Alex|0.11|"
   ]
  },
  {
   "cell_type": "code",
   "execution_count": null,
   "metadata": {},
   "outputs": [],
   "source": []
  },
  {
   "cell_type": "markdown",
   "metadata": {},
   "source": [
    "### Question 7\n",
    "\n",
    "Use the `join` method to make the table below:\n",
    "\n",
    "|Order Number|Order Date|Purchase Amount|Customer Name|Grade|Salesperson Name|Commission|Commission Earned|\n",
    "|------------|----------|---------------|-------------|-----|----------------|----------|-----------------|\n",
    "|70002|2019-10-05|\\$65.26|Nick Rimando|100|James Hoog|0.15|\\$9.79|\n",
    "|70008|2019-09-10|\\$5,760.00|Nick Rimando|100|James Hoog|0.15|\\$864.00|\n",
    "|70013|2019-04-25|\\$3,045.60|Nick Rimando|100|James Hoog|0.15|\\$456.84|\n",
    "|70005|2019-07-27|\\$2,400.60|Brad Davis|200|James Hoog|0.15|\\$360.09|\n",
    "|70001|2019-10-05|\\$150.50|Graham Zusi|200|Nail Knite|0.13|\\$19.57|\n",
    "|70007|2019-09-10|\\$948.50|Graham Zusi|200|Nail Knite|0.13|\\$123.30|\n",
    "|70012|2019-06-27|\\$250.45|Jilian Green|300|Nail Knite|0.13|\\$32.56|\n",
    "|70004|2019-08-17|\\$110.50|Gina Cameron|100|Layla Ahmad|0.12|\\$13.26|\n",
    "|70003|2019-10-10|\\$2,480.40|Gina Cameron|100|Layla Ahmad|0.12|\\$297.65|\n",
    "|70009|2019-09-10|\\$270.65|Corey Jackson|200|Amoli Alex|0.11|\\$29.77|\n",
    "|70010|2019-10-10|\\$1,983.43|Fabian Johnson|300|Mike Lyon|0.14|\\$277.68|\n",
    "|70011|2019-08-17|\\$75.29|Helen Li|200|Adam Plank|0.13|\\$9.79|\n",
    "\n",
    "**Note 1:** You will need functions to convert the `Purchase Amount` from a string to a number and to calculate the `Commission Earned`.\n",
    "\n",
    "**Hint 1:** You can use the `.apply` method to call a function on each item in an array.\n",
    "\n",
    "**Hint 2:** The `.replace` method to remove characters from any position in a string. For more information on the `.replace` method [click here](http://data8.org/fa19/python-reference.html) to look at the documentation.\n",
    "\n",
    "**Hint 3:** A function can have multiple arguments. Define a function that accepts the purchase amount and the commission percent, then calculates the commission earned.\n",
    "\n",
    "**Hint 4:** The `CurrencyFormatter` will display a `float` with the '\\$' symbol. For more information on `CurrencyFormatter` [click here](http://data8.org/datascience/formats.html) to look at the documentation. "
   ]
  },
  {
   "cell_type": "code",
   "execution_count": null,
   "metadata": {},
   "outputs": [],
   "source": []
  },
  {
   "cell_type": "markdown",
   "metadata": {},
   "source": [
    "## Optional Challenge\n",
    "\n",
    "### Question 8\n",
    "\n",
    "Use the `join` method to make the table below:\n",
    "\n",
    "|Salesperson Name|Total Sales|\n",
    "|----------------|-----------|\n",
    "|Adam Plank|\\$75|\n",
    "|Amoli Alex|\\$271|\n",
    "|James Hoog|\\$11,271|\n",
    "|Layla Ahmad|\\$2,591|\n",
    "|Mike Lyon|\\$1,983|\n",
    "|Nail Knite|\\$1,349|\n",
    "\n",
    "**Hint 1:** Use the `np.unique()` function to return the unique elements from the `Salesperson Name` column."
   ]
  },
  {
   "cell_type": "code",
   "execution_count": null,
   "metadata": {},
   "outputs": [],
   "source": []
  }
 ],
 "metadata": {
  "kernelspec": {
   "display_name": "Python 3",
   "language": "python",
   "name": "python3"
  },
  "language_info": {
   "codemirror_mode": {
    "name": "ipython",
    "version": 3
   },
   "file_extension": ".py",
   "mimetype": "text/x-python",
   "name": "python",
   "nbconvert_exporter": "python",
   "pygments_lexer": "ipython3",
   "version": "3.8.5"
  }
 },
 "nbformat": 4,
 "nbformat_minor": 4
}
