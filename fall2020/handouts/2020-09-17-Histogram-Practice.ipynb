{
 "cells": [
  {
   "cell_type": "markdown",
   "metadata": {},
   "source": [
    "# Practicing Data Visualizations"
   ]
  },
  {
   "cell_type": "code",
   "execution_count": 1,
   "metadata": {},
   "outputs": [
    {
     "name": "stderr",
     "output_type": "stream",
     "text": [
      "/opt/conda/lib/python3.8/site-packages/datascience/tables.py:17: MatplotlibDeprecationWarning: The 'warn' parameter of use() is deprecated since Matplotlib 3.1 and will be removed in 3.3.  If any parameter follows 'warn', they should be pass as keyword, not positionally.\n",
      "  matplotlib.use('agg', warn=False)\n",
      "/opt/conda/lib/python3.8/site-packages/datascience/util.py:10: MatplotlibDeprecationWarning: The 'warn' parameter of use() is deprecated since Matplotlib 3.1 and will be removed in 3.3.  If any parameter follows 'warn', they should be pass as keyword, not positionally.\n",
      "  matplotlib.use('agg', warn=False)\n"
     ]
    }
   ],
   "source": [
    "from datascience import *\n",
    "import numpy as np\n",
    "%matplotlib inline\n",
    "\n",
    "import matplotlib.pyplot as plots\n",
    "plots.style.use('fivethirtyeight')"
   ]
  },
  {
   "cell_type": "markdown",
   "metadata": {},
   "source": [
    "## Instructions"
   ]
  },
  {
   "cell_type": "markdown",
   "metadata": {},
   "source": [
    "Use the dataset `chicago_pol.csv` to answer the questions found below in the Exercises section."
   ]
  },
  {
   "cell_type": "markdown",
   "metadata": {},
   "source": [
    "## Dataset `chicago_pol.csv`\n",
    "\n",
    "The data in this file is organized in the following way:\n",
    "\n",
    "| Variable | Data Type | Description |\n",
    "|----------|-----------|-------------|\n",
    "|`X`       | `int`     | Original row number from larger data set |\n",
    "|`city`    | `str`     | Name of City   |\n",
    "|`date`    | `str`     | Date in MM/DD/YYYY format |\n",
    "|`temp`    | `float`   | High temperature recorded for that day |\n",
    "|`dewpoint`| `float`   | Dewpoint |\n",
    "| `pm10`   | `float`   | Particulate matter up to 10 micrometers |\n",
    "| `o3`     | `float`   | Ground level ozone |\n",
    "| `time`   | `int`     | Date as an integer format (3654 is 1/1/1997 and 5114 is 12/31/2000) |\n",
    "| `season` | `str`     | Season (winter, spring, summer, fall) |\n",
    "| `year`   | `int`     | Year (1997, 1998, 1999, 2000)|\n"
   ]
  },
  {
   "cell_type": "markdown",
   "metadata": {},
   "source": [
    "## Exercises\n",
    "Answer the following questions using the data contained in the dataset. Run the following cell to load the data into the Table named `chicago`."
   ]
  },
  {
   "cell_type": "code",
   "execution_count": 4,
   "metadata": {},
   "outputs": [
    {
     "data": {
      "text/html": [
       "<table border=\"1\" class=\"dataframe\">\n",
       "    <thead>\n",
       "        <tr>\n",
       "            <th>X</th> <th>city</th> <th>date</th> <th>temp</th> <th>dewpoint</th> <th>pm10</th> <th>o3</th> <th>time</th> <th>season</th> <th>year</th>\n",
       "        </tr>\n",
       "    </thead>\n",
       "    <tbody>\n",
       "        <tr>\n",
       "            <td>3654</td> <td>chic</td> <td>1/1/1997 </td> <td>36  </td> <td>37.5    </td> <td>13.0523</td> <td>5.65926</td> <td>3654</td> <td>winter</td> <td>1997</td>\n",
       "        </tr>\n",
       "        <tr>\n",
       "            <td>3655</td> <td>chic</td> <td>1/2/1997 </td> <td>45  </td> <td>47.25   </td> <td>41.9486</td> <td>5.52542</td> <td>3655</td> <td>winter</td> <td>1997</td>\n",
       "        </tr>\n",
       "        <tr>\n",
       "            <td>3656</td> <td>chic</td> <td>1/3/1997 </td> <td>40  </td> <td>38      </td> <td>27.0418</td> <td>6.28855</td> <td>3656</td> <td>winter</td> <td>1997</td>\n",
       "        </tr>\n",
       "        <tr>\n",
       "            <td>3657</td> <td>chic</td> <td>1/4/1997 </td> <td>51.5</td> <td>45.5    </td> <td>25.0726</td> <td>7.53776</td> <td>3657</td> <td>winter</td> <td>1997</td>\n",
       "        </tr>\n",
       "        <tr>\n",
       "            <td>3658</td> <td>chic</td> <td>1/5/1997 </td> <td>27  </td> <td>11.25   </td> <td>15.3431</td> <td>20.7608</td> <td>3658</td> <td>winter</td> <td>1997</td>\n",
       "        </tr>\n",
       "        <tr>\n",
       "            <td>3659</td> <td>chic</td> <td>1/6/1997 </td> <td>17  </td> <td>5.75    </td> <td>9.36465</td> <td>14.9409</td> <td>3659</td> <td>winter</td> <td>1997</td>\n",
       "        </tr>\n",
       "        <tr>\n",
       "            <td>3660</td> <td>chic</td> <td>1/7/1997 </td> <td>16  </td> <td>7       </td> <td>20.2284</td> <td>11.921 </td> <td>3660</td> <td>winter</td> <td>1997</td>\n",
       "        </tr>\n",
       "        <tr>\n",
       "            <td>3661</td> <td>chic</td> <td>1/8/1997 </td> <td>19  </td> <td>17.75   </td> <td>33.1348</td> <td>8.67848</td> <td>3661</td> <td>winter</td> <td>1997</td>\n",
       "        </tr>\n",
       "        <tr>\n",
       "            <td>3662</td> <td>chic</td> <td>1/9/1997 </td> <td>26  </td> <td>24      </td> <td>12.1184</td> <td>13.3559</td> <td>3662</td> <td>winter</td> <td>1997</td>\n",
       "        </tr>\n",
       "        <tr>\n",
       "            <td>3663</td> <td>chic</td> <td>1/10/1997</td> <td>16  </td> <td>5.375   </td> <td>24.7615</td> <td>10.4483</td> <td>3663</td> <td>winter</td> <td>1997</td>\n",
       "        </tr>\n",
       "    </tbody>\n",
       "</table>\n",
       "<p>... (1451 rows omitted)</p>"
      ],
      "text/plain": [
       "X    | city | date      | temp | dewpoint | pm10    | o3      | time | season | year\n",
       "3654 | chic | 1/1/1997  | 36   | 37.5     | 13.0523 | 5.65926 | 3654 | winter | 1997\n",
       "3655 | chic | 1/2/1997  | 45   | 47.25    | 41.9486 | 5.52542 | 3655 | winter | 1997\n",
       "3656 | chic | 1/3/1997  | 40   | 38       | 27.0418 | 6.28855 | 3656 | winter | 1997\n",
       "3657 | chic | 1/4/1997  | 51.5 | 45.5     | 25.0726 | 7.53776 | 3657 | winter | 1997\n",
       "3658 | chic | 1/5/1997  | 27   | 11.25    | 15.3431 | 20.7608 | 3658 | winter | 1997\n",
       "3659 | chic | 1/6/1997  | 17   | 5.75     | 9.36465 | 14.9409 | 3659 | winter | 1997\n",
       "3660 | chic | 1/7/1997  | 16   | 7        | 20.2284 | 11.921  | 3660 | winter | 1997\n",
       "3661 | chic | 1/8/1997  | 19   | 17.75    | 33.1348 | 8.67848 | 3661 | winter | 1997\n",
       "3662 | chic | 1/9/1997  | 26   | 24       | 12.1184 | 13.3559 | 3662 | winter | 1997\n",
       "3663 | chic | 1/10/1997 | 16   | 5.375    | 24.7615 | 10.4483 | 3663 | winter | 1997\n",
       "... (1451 rows omitted)"
      ]
     },
     "execution_count": 4,
     "metadata": {},
     "output_type": "execute_result"
    }
   ],
   "source": [
    "chicago = Table.read_table('chicago_pol.csv')\n",
    "chicago"
   ]
  },
  {
   "cell_type": "markdown",
   "metadata": {},
   "source": [
    "**Question 1**: How many Winter days are in each year where the temperature was lower than 10 degrees?"
   ]
  },
  {
   "cell_type": "code",
   "execution_count": null,
   "metadata": {},
   "outputs": [],
   "source": []
  },
  {
   "cell_type": "markdown",
   "metadata": {},
   "source": [
    "**Question 2**: What percentage of Spring days in each year is the temperature above 70 degrees?"
   ]
  },
  {
   "cell_type": "code",
   "execution_count": null,
   "metadata": {},
   "outputs": [],
   "source": []
  },
  {
   "cell_type": "markdown",
   "metadata": {},
   "source": [
    "**Question 3**: Choose one month in any year and make a line plot for the dewpoint."
   ]
  },
  {
   "cell_type": "code",
   "execution_count": null,
   "metadata": {},
   "outputs": [],
   "source": []
  },
  {
   "cell_type": "markdown",
   "metadata": {},
   "source": [
    "**Question 4**: Determine what `o3` and `pm10` indicate about air quality and the typical units of measure."
   ]
  },
  {
   "cell_type": "markdown",
   "metadata": {},
   "source": [
    "*Replace this text with your answer*"
   ]
  },
  {
   "cell_type": "markdown",
   "metadata": {},
   "source": [
    "**Question 5**: Choose one year and make a histogram for the `o3` values and for the `pm10` values. You should manually set the bin size using an array. The first bin must be $[0, 5)$ but all other bins can be any size you choose."
   ]
  },
  {
   "cell_type": "code",
   "execution_count": null,
   "metadata": {},
   "outputs": [],
   "source": []
  },
  {
   "cell_type": "markdown",
   "metadata": {},
   "source": [
    "**Question 6:** Choose one year and make a histogram for the `pm10` values. You should manually set the bin size using an array. The first bin must be $[0, 20)$ but all other bins can be any size you choose."
   ]
  },
  {
   "cell_type": "code",
   "execution_count": null,
   "metadata": {},
   "outputs": [],
   "source": []
  },
  {
   "cell_type": "markdown",
   "metadata": {},
   "source": [
    "**Question 7**: Based on your histograms, roughtly what percent of the data falls into the first bar of the histogram in each graph?"
   ]
  },
  {
   "cell_type": "markdown",
   "metadata": {},
   "source": [
    "*Double-click to edit this cell with your answers**"
   ]
  }
 ],
 "metadata": {
  "kernelspec": {
   "display_name": "Python 3",
   "language": "python",
   "name": "python3"
  },
  "language_info": {
   "codemirror_mode": {
    "name": "ipython",
    "version": 3
   },
   "file_extension": ".py",
   "mimetype": "text/x-python",
   "name": "python",
   "nbconvert_exporter": "python",
   "pygments_lexer": "ipython3",
   "version": "3.8.5"
  }
 },
 "nbformat": 4,
 "nbformat_minor": 4
}
