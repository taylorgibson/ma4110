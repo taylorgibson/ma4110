{
 "cells": [
  {
   "cell_type": "markdown",
   "metadata": {},
   "source": [
    "# Practicing Data Visualizations"
   ]
  },
  {
   "cell_type": "code",
   "execution_count": null,
   "metadata": {},
   "outputs": [],
   "source": [
    "from datascience import *\n",
    "import numpy as np\n",
    "%matplotlib inline\n",
    "\n",
    "import matplotlib.pyplot as plots\n",
    "plots.style.use('fivethirtyeight')"
   ]
  },
  {
   "cell_type": "markdown",
   "metadata": {},
   "source": [
    "## Instructions"
   ]
  },
  {
   "cell_type": "markdown",
   "metadata": {},
   "source": [
    "Use the dataset `chicago_pol.csv` to answer the questions found below in the Exercises section."
   ]
  },
  {
   "cell_type": "markdown",
   "metadata": {},
   "source": [
    "## Dataset `chicago_pol.csv`\n",
    "\n",
    "The data in this file is organized in the following way:\n",
    "\n",
    "| Variable | Data Type | Description |\n",
    "|----------|-----------|-------------|\n",
    "|`X`       | `int`     | Original row number from larger data set |\n",
    "|`city`    | `str`     | Name of City   |\n",
    "|`date`    | `str`     | Date in MM/DD/YYYY format |\n",
    "|`temp`    | `float`   | High temperature recorded for that day |\n",
    "|`dewpoint`| `float`   | Dewpoint |\n",
    "| `pm10`   | `float`   | Particulate matter up to 10 micrometers |\n",
    "| `o3`     | `float`   | Ground level ozone |\n",
    "| `time`   | `int`     | Date as an integer format (3654 is 1/1/1997 and 5114 is 12/31/2000) |\n",
    "| `season` | `str`     | Season (winter, spring, summer, fall) |\n",
    "| `year`   | `int`     | Year (1997, 1998, 1999, 2000)|\n"
   ]
  },
  {
   "cell_type": "markdown",
   "metadata": {},
   "source": [
    "## Exercises\n",
    "Answer the following questions using the data contained in the dataset. Run the following cell to load the data into the Table named `chicago`."
   ]
  },
  {
   "cell_type": "code",
   "execution_count": null,
   "metadata": {},
   "outputs": [],
   "source": [
    "chicago = Table.read_table('chicago_pol.csv')\n",
    "chicago"
   ]
  },
  {
   "cell_type": "markdown",
   "metadata": {},
   "source": [
    "**Question 1**: How many Winter days are in each year where the temperature was lower than 10 degrees?"
   ]
  },
  {
   "cell_type": "code",
   "execution_count": null,
   "metadata": {},
   "outputs": [],
   "source": []
  },
  {
   "cell_type": "markdown",
   "metadata": {},
   "source": [
    "**Question 2**: What percentage of Spring days in each year is the temperature above 70 degrees?"
   ]
  },
  {
   "cell_type": "code",
   "execution_count": null,
   "metadata": {},
   "outputs": [],
   "source": []
  },
  {
   "cell_type": "markdown",
   "metadata": {},
   "source": [
    "**Question 3**: Choose one month in any year and make a line plot for the dewpoint."
   ]
  },
  {
   "cell_type": "code",
   "execution_count": null,
   "metadata": {},
   "outputs": [],
   "source": []
  },
  {
   "cell_type": "markdown",
   "metadata": {},
   "source": [
    "**Question 4**: Determine what `o3` and `pm10` indicate about air quality and the typical units of measure."
   ]
  },
  {
   "cell_type": "markdown",
   "metadata": {},
   "source": [
    "*Replace this text with your answer*"
   ]
  },
  {
   "cell_type": "markdown",
   "metadata": {},
   "source": [
    "**Question 5**: Choose one year and make a histogram for the `o3` values and for the `pm10` values. You should manually set the bin size using an array. The first bin must be $[0, 5)$ but all other bins can be any size you choose."
   ]
  },
  {
   "cell_type": "code",
   "execution_count": null,
   "metadata": {},
   "outputs": [],
   "source": []
  },
  {
   "cell_type": "markdown",
   "metadata": {},
   "source": [
    "**Question 6:** Choose one year and make a histogram for the `pm10` values. You should manually set the bin size using an array. The first bin must be $[0, 20)$ but all other bins can be any size you choose."
   ]
  },
  {
   "cell_type": "code",
   "execution_count": null,
   "metadata": {},
   "outputs": [],
   "source": []
  },
  {
   "cell_type": "markdown",
   "metadata": {},
   "source": [
    "**Question 7**: Based on your histograms, roughtly what percent of the data falls into the first bar of the histogram in each graph?"
   ]
  },
  {
   "cell_type": "markdown",
   "metadata": {},
   "source": [
    "*Double-click to edit this cell with your answers**"
   ]
  }
 ],
 "metadata": {
  "kernelspec": {
   "display_name": "Python 3",
   "language": "python",
   "name": "python3"
  },
  "language_info": {
   "codemirror_mode": {
    "name": "ipython",
    "version": 3
   },
   "file_extension": ".py",
   "mimetype": "text/x-python",
   "name": "python",
   "nbconvert_exporter": "python",
   "pygments_lexer": "ipython3",
   "version": "3.8.5"
  }
 },
 "nbformat": 4,
 "nbformat_minor": 4
}
