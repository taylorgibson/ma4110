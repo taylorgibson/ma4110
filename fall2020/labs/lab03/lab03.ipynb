{
 "cells": [
  {
   "cell_type": "code",
   "execution_count": null,
   "metadata": {
    "deletable": false,
    "editable": false
   },
   "outputs": [],
   "source": [
    "# Initialize Otter\n",
    "import otter\n",
    "grader = otter.Notebook()"
   ]
  },
  {
   "cell_type": "markdown",
   "metadata": {},
   "source": [
    "# Lab 03: Charts\n",
    "Welcome to Lab 03.\n",
    "\n",
    "So far, we've used Python to work with tables and to perform operations on arrays (e.g. a column in a tale). But sometimes a visualization of data can make big and small data easier for the human brain to understand and to detect patterns, trends, and outliers.\n",
    "\n",
    "In this lab, you'll first see how to create visualizations of data by using bar charts, scatter plots, and histograms."
   ]
  },
  {
   "cell_type": "code",
   "execution_count": 1,
   "metadata": {},
   "outputs": [],
   "source": [
    "# Just run this cell\n",
    "import warnings\n",
    "warnings.filterwarnings(\"ignore\", message=\"The 'warn' parameter of\")\n",
    "\n",
    "from datascience import *\n",
    "import numpy as np\n",
    "\n",
    "%matplotlib inline\n",
    "import matplotlib.pyplot as plots\n",
    "plots.style.use('fivethirtyeight')"
   ]
  },
  {
   "cell_type": "markdown",
   "metadata": {
    "deletable": false,
    "editable": false
   },
   "source": [
    "# 1. Creating a Table\n",
    "\n",
    "**Question 1.1** Read in the data file `movies_by_year_with_ticket_price.csv` and store it in a table named `movies`.\n",
    "\n",
    "<!--\n",
    "BEGIN QUESTION\n",
    "name: q1_1\n",
    "-->"
   ]
  },
  {
   "cell_type": "code",
   "execution_count": 2,
   "metadata": {},
   "outputs": [],
   "source": [
    "movies = ...\n",
    "movies"
   ]
  },
  {
   "cell_type": "code",
   "execution_count": null,
   "metadata": {
    "deletable": false,
    "editable": false
   },
   "outputs": [],
   "source": [
    "grader.check(\"q1_1\")"
   ]
  },
  {
   "cell_type": "markdown",
   "metadata": {
    "deletable": false,
    "editable": false
   },
   "source": [
    "The values in the column `Total Gross` represent the total gross of the movie in millions of dollars. Suppose we want to determine how many tickets were sold for the movie. To do this we need to convert the `Total Gross` into millions and divide by the `Average Ticket Price`.\n",
    "\n",
    "**Question 1.2** Calculate the number of ticket sold and store this value in `tix_sold`.\n",
    "\n",
    "<!--\n",
    "BEGIN QUESTION\n",
    "name: q1_2\n",
    "-->"
   ]
  },
  {
   "cell_type": "code",
   "execution_count": 5,
   "metadata": {},
   "outputs": [],
   "source": [
    "gross_in_dollars = ...\n",
    "tix_sold = ...\n",
    "tix_sold"
   ]
  },
  {
   "cell_type": "code",
   "execution_count": null,
   "metadata": {
    "deletable": false,
    "editable": false
   },
   "outputs": [],
   "source": [
    "grader.check(\"q1_2\")"
   ]
  },
  {
   "cell_type": "markdown",
   "metadata": {
    "deletable": false,
    "editable": false
   },
   "source": [
    "**Question 1.3.** Add the `tix_sold` column to the `movies` table using the the label \"Tickets Sold\". Set the format of this column to numbers with commas.\n",
    "\n",
    "<!--\n",
    "BEGIN QUESTION\n",
    "name: q1_3\n",
    "-->"
   ]
  },
  {
   "cell_type": "code",
   "execution_count": 9,
   "metadata": {},
   "outputs": [],
   "source": [
    "movies = ...\n",
    "movies"
   ]
  },
  {
   "cell_type": "code",
   "execution_count": null,
   "metadata": {
    "deletable": false,
    "editable": false
   },
   "outputs": [],
   "source": [
    "grader.check(\"q1_3\")"
   ]
  },
  {
   "cell_type": "markdown",
   "metadata": {
    "deletable": false,
    "editable": false
   },
   "source": [
    "**Question 1.4** Format the values in the array as a number with commas, and then add this column to the `movies` table. Sort the `movies` table from most tickets sold to least.\n",
    "\n",
    "<!--\n",
    "BEGIN QUESTION\n",
    "name: q1_4\n",
    "-->"
   ]
  },
  {
   "cell_type": "code",
   "execution_count": 12,
   "metadata": {},
   "outputs": [],
   "source": [
    "movies = ...\n",
    "movies"
   ]
  },
  {
   "cell_type": "code",
   "execution_count": null,
   "metadata": {
    "deletable": false,
    "editable": false
   },
   "outputs": [],
   "source": [
    "grader.check(\"q1_4\")"
   ]
  },
  {
   "cell_type": "markdown",
   "metadata": {
    "deletable": false,
    "editable": false
   },
   "source": [
    "<!-- BEGIN QUESTION -->\n",
    "\n",
    "# 2. Charts\n",
    "\n",
    "## 2.1 Line Graph\n",
    "\n",
    "**Question 2.1.1.** Make a line graph of `movies` table that shows the number of tickets sold in each year.\n",
    "\n",
    "<!--\n",
    "BEGIN QUESTION\n",
    "name: q2_1_1\n",
    "manual: true\n",
    "-->"
   ]
  },
  {
   "cell_type": "code",
   "execution_count": 14,
   "metadata": {},
   "outputs": [],
   "source": [
    "..."
   ]
  },
  {
   "cell_type": "markdown",
   "metadata": {
    "deletable": false,
    "editable": false
   },
   "source": [
    "<!-- END QUESTION -->\n",
    "\n",
    "## 2.2 Bar Charts\n",
    "\n",
    "**Roman Emperors***\n",
    "\n",
    "The story of Rome’s Emperors in the first century AD has got it all-love, murder and revenge, fear and greed, envy and pride. Their history is a rollercoaster that lurches from peace and prosperity to terror and tyranny.\n",
    "\n",
    "**Hereditary rule**\n",
    "\n",
    "Why was the first century so turbulent? The first answer is simple: hereditary rule. For most of this period, emperors were not chosen on the basis of their ability or honesty, but simply because they were born in the right family.\n",
    "\n",
    "For every great leader, such as Augustus, there was a tyrant like Caligula. For every Claudius there was a Nero; for every Vespasian, a Domitian. Only at the end of the period did Rome take the succession into its own hands and select somebody who was reasonably sane, smart and honest. Let's explore a dataset about roman emperors\n",
    "\n",
    "**Question 2.2.1** Read in the data file `emperors.csv` and store it in a table named `emperors`.\n",
    "\n",
    "<!--\n",
    "BEGIN QUESTION\n",
    "name: q2_2_1\n",
    "-->"
   ]
  },
  {
   "cell_type": "code",
   "execution_count": 15,
   "metadata": {},
   "outputs": [],
   "source": [
    "emperors = ...\n",
    "emperors"
   ]
  },
  {
   "cell_type": "code",
   "execution_count": null,
   "metadata": {
    "deletable": false,
    "editable": false
   },
   "outputs": [],
   "source": [
    "grader.check(\"q2_2_1\")"
   ]
  },
  {
   "cell_type": "markdown",
   "metadata": {
    "deletable": false,
    "editable": false
   },
   "source": [
    "The `unique()` function from the `numpy` pakage is used to find the unique elements of an array. It returns the sorted unique elements of an array. There are three optional outputs in addition to the unique elements:\n",
    "\n",
    "* the indices of the input array that give the unique values\n",
    "* the indices of the unique array that reconstruct the input array\n",
    "* the number of times each unique value comes up in the input array\n",
    "\n",
    "**Question 2.2.2.** Use the `np.unique()` function to return the unique elements from the `rise` column in the `emperors` table. Store the returned array in `rise_to_power`.\n",
    "\n",
    "<!--\n",
    "BEGIN QUESTION\n",
    "name: q2_2_2\n",
    "-->"
   ]
  },
  {
   "cell_type": "code",
   "execution_count": 19,
   "metadata": {},
   "outputs": [],
   "source": [
    "rise_to_power = ...\n",
    "rise_to_power"
   ]
  },
  {
   "cell_type": "code",
   "execution_count": null,
   "metadata": {
    "deletable": false,
    "editable": false
   },
   "outputs": [],
   "source": [
    "grader.check(\"q2_2_2\")"
   ]
  },
  {
   "cell_type": "markdown",
   "metadata": {
    "deletable": false,
    "editable": false
   },
   "source": [
    "Suppose we want to make a bar chart that shows  I decided to chart the different ways the emperors rose to power.\n",
    "\n",
    "In order to use the `.barh` method we need to create a table. Let's start by creating variables to store the number of emperors that attained the throne for each category. \n",
    "\n",
    "**Question 2.2.3.** For each category we need to find the number of rows that correspond to each of the different ways an emperor rose to power. Store the value for each method in a separate variable, then put all the variables in an array. Use the table below as a guide.\n",
    "\n",
    "| Name          | Description |\n",
    "| :----------   | :-----------|\n",
    "| `appt_army`   | Number of emperors that were appointed by the army   |\n",
    "| `appt_emp`    | Number of emperors that were appointed by an emperor |\n",
    "| `appt_guard`  | Number of emperors that were appointed by the praetorian guard |\n",
    "| `appt_senate` | Number of emperors that were appointed by the senate |\n",
    "| `appt_birthright` | Number of emperors that were appointed by birthright |\n",
    "| `appt_election`   | Number of emperors that were appointed by election |\n",
    "| `appt_purchase`   | Number of emperors that were appointed by purchase | \n",
    "| `appt_seizedpwr`  | Number of emperors that seized power |\n",
    "\n",
    "Store each of the variables in an array named `number_of_emperors`.\n",
    "\n",
    "<!--\n",
    "BEGIN QUESTION\n",
    "name: q2_2_3\n",
    "-->"
   ]
  },
  {
   "cell_type": "code",
   "execution_count": 23,
   "metadata": {},
   "outputs": [],
   "source": [
    "appt_army = ...\n",
    "appt_emp = ...\n",
    "appt_guard = ...\n",
    "appt_senate = ...\n",
    "appt_birthright = ...\n",
    "appt_election = ...\n",
    "appt_purchase = ...\n",
    "appt_seizedpwr = ...\n",
    "number_of_emperors = make_array(appt_army,\n",
    "                                appt_emp, \n",
    "                                appt_guard, \n",
    "                                appt_senate, \n",
    "                                appt_birthright, \n",
    "                                appt_election,\n",
    "                                appt_purchase,\n",
    "                                ...\n",
    "number_of_emperors"
   ]
  },
  {
   "cell_type": "code",
   "execution_count": null,
   "metadata": {
    "deletable": false,
    "editable": false
   },
   "outputs": [],
   "source": [
    "grader.check(\"q2_2_3\")"
   ]
  },
  {
   "cell_type": "markdown",
   "metadata": {
    "deletable": false,
    "editable": false
   },
   "source": [
    "**Question 2.2.4.** Make a table named `path_to_throne` with two columns. One column should contain the `rise_to_power` array named **Path to the Throne** and the other column should contain the `number_of_emperors` array named **Number of Emperors**.\n",
    "\n",
    "<!--\n",
    "BEGIN QUESTION\n",
    "name: q2_2_4\n",
    "-->"
   ]
  },
  {
   "cell_type": "code",
   "execution_count": 27,
   "metadata": {},
   "outputs": [],
   "source": [
    "path_to_throne = ...\n",
    "path_to_throne = ...\n",
    "path_to_throne"
   ]
  },
  {
   "cell_type": "code",
   "execution_count": null,
   "metadata": {
    "deletable": false,
    "editable": false
   },
   "outputs": [],
   "source": [
    "grader.check(\"q2_2_4\")"
   ]
  },
  {
   "cell_type": "markdown",
   "metadata": {
    "deletable": false,
    "editable": false
   },
   "source": [
    "<!-- BEGIN QUESTION -->\n",
    "\n",
    "**Question 2.2.5.** Plot the `path_to_throne` table as a horizontal bar chart.\n",
    "\n",
    "<!--\n",
    "BEGIN QUESTION\n",
    "name: q2_2_5\n",
    "manual: True\n",
    "-->"
   ]
  },
  {
   "cell_type": "code",
   "execution_count": 31,
   "metadata": {},
   "outputs": [],
   "source": [
    "..."
   ]
  },
  {
   "cell_type": "markdown",
   "metadata": {
    "deletable": false,
    "editable": false
   },
   "source": [
    "<!-- END QUESTION -->\n",
    "\n",
    "## 2.3 Histograms\n",
    "\n",
    "**CEO Incomes**\n",
    "\n",
    "In this question, we'll look at the 2015 compensation of CEOs at the 100 largest companies in California. The data was compiled from a [Los Angeles Times analysis](http://spreadsheets.latimes.com/california-ceo-compensation/), and ultimately came from [filings](https://www.sec.gov/answers/proxyhtf.htm) mandated by the SEC from all publicly-traded companies. Two companies have two CEOs, so there are 102 CEOs in the dataset.\n",
    "\n",
    "We've copied the raw data from the LA Times page into a file called `raw_compensation.csv`. \n",
    "\n",
    "**Note:** The page notes that all dollar amounts are in millions of dollars.\n",
    "\n",
    "**Question 2.3.1** Read in the data file `ceo_income.csv` and store it in a table named `ceo_income`.\n",
    "\n",
    "<!--\n",
    "BEGIN QUESTION\n",
    "name: q2_3_1\n",
    "-->"
   ]
  },
  {
   "cell_type": "code",
   "execution_count": 32,
   "metadata": {},
   "outputs": [],
   "source": [
    "ceo_income = ...\n",
    "ceo_income"
   ]
  },
  {
   "cell_type": "code",
   "execution_count": null,
   "metadata": {
    "deletable": false,
    "editable": false
   },
   "outputs": [],
   "source": [
    "grader.check(\"q2_3_1\")"
   ]
  },
  {
   "cell_type": "markdown",
   "metadata": {
    "deletable": false,
    "editable": false
   },
   "source": [
    "**Question 2.3.2** Calculate the average CEO `Total Pay` and store the value in `avg_ceo_total_pay`.\n",
    "<!--\n",
    "BEGIN QUESTION\n",
    "name: q2_3_2\n",
    "-->"
   ]
  },
  {
   "cell_type": "code",
   "execution_count": 36,
   "metadata": {},
   "outputs": [],
   "source": [
    "avg_ceo_total_pay = ...\n",
    "avg_ceo_total_pay"
   ]
  },
  {
   "cell_type": "code",
   "execution_count": null,
   "metadata": {
    "deletable": false,
    "editable": false
   },
   "outputs": [],
   "source": [
    "grader.check(\"q2_3_2\")"
   ]
  },
  {
   "cell_type": "markdown",
   "metadata": {
    "deletable": false,
    "editable": false
   },
   "source": [
    "**Question 2.3.3** How many CEOs make more than the average?\n",
    "\n",
    "<!--\n",
    "BEGIN QUESTION\n",
    "name: q2_3_3\n",
    "-->"
   ]
  },
  {
   "cell_type": "code",
   "execution_count": 38,
   "metadata": {},
   "outputs": [],
   "source": [
    "pct_above_avg = ...\n",
    "pct_above_avg"
   ]
  },
  {
   "cell_type": "code",
   "execution_count": null,
   "metadata": {
    "deletable": false,
    "editable": false
   },
   "outputs": [],
   "source": [
    "grader.check(\"q2_3_3\")"
   ]
  },
  {
   "cell_type": "markdown",
   "metadata": {
    "deletable": false,
    "editable": false
   },
   "source": [
    "<!-- BEGIN QUESTION -->\n",
    "\n",
    "The average doesn't tell us everything about the amounts CEOs are paid, though. Maybe just a few CEOs make the bulk of the money, even among these 102.\n",
    "\n",
    "We can use a histogram method to display the distribution of a set of numbers. The table method `.hist` takes a single argument, the name of a column of numbers. It produces a histogram of the numbers in that column.\n",
    "\n",
    "**Question 2.3.4** Make a histogram of the total pay of the CEOs in compensation. Then check that the value you found for `pct_above_avg` is consistent with what you see in the histogram.\n",
    "\n",
    "**Note:** Use the `my_bins` for the class intervals in your histogram.\n",
    "\n",
    "<!--\n",
    "BEGIN QUESTION\n",
    "name: q2_3_4\n",
    "manual: True\n",
    "-->"
   ]
  },
  {
   "cell_type": "code",
   "execution_count": 40,
   "metadata": {},
   "outputs": [],
   "source": [
    "my_bins = make_array(0,5,10,20,60)\n",
    "...\n",
    "..."
   ]
  },
  {
   "cell_type": "markdown",
   "metadata": {
    "deletable": false,
    "editable": false
   },
   "source": [
    "<!-- END QUESTION -->"
   ]
  },
  {
   "cell_type": "code",
   "execution_count": null,
   "metadata": {},
   "outputs": [],
   "source": []
  },
  {
   "cell_type": "markdown",
   "metadata": {
    "deletable": false,
    "editable": false
   },
   "source": [
    "---\n",
    "\n",
    "To double-check your work, the cell below will rerun all of the autograder tests."
   ]
  },
  {
   "cell_type": "code",
   "execution_count": null,
   "metadata": {
    "deletable": false,
    "editable": false
   },
   "outputs": [],
   "source": [
    "grader.check_all()"
   ]
  },
  {
   "cell_type": "markdown",
   "metadata": {
    "deletable": false,
    "editable": false
   },
   "source": [
    "## Submission\n",
    "\n",
    "Make sure you have run all cells in your notebook in order before running the cell below, so that all images/graphs appear in the output. The cell below will generate a zip file for you to submit. **Please save before exporting!**\n",
    "\n",
    "When done exporting, download the .zip file by `SHIFT`-clicking on the file name and selecting **Save Link As**. Or, find the .zip file in the left side of the screen and right-click and select **Download**. You'll submit this .zip file for the assignment in Canvas to Gradescope for grading."
   ]
  },
  {
   "cell_type": "code",
   "execution_count": null,
   "metadata": {
    "deletable": false,
    "editable": false
   },
   "outputs": [],
   "source": [
    "# Save your notebook first, then run this cell to export your submission.\n",
    "grader.export(\"lab03.ipynb\", pdf=False)"
   ]
  },
  {
   "cell_type": "markdown",
   "metadata": {},
   "source": [
    " "
   ]
  }
 ],
 "metadata": {
  "kernelspec": {
   "display_name": "Python 3",
   "language": "python",
   "name": "python3"
  },
  "language_info": {
   "codemirror_mode": {
    "name": "ipython",
    "version": 3
   },
   "file_extension": ".py",
   "mimetype": "text/x-python",
   "name": "python",
   "nbconvert_exporter": "python",
   "pygments_lexer": "ipython3",
   "version": "3.8.5"
  }
 },
 "nbformat": 4,
 "nbformat_minor": 4
}
